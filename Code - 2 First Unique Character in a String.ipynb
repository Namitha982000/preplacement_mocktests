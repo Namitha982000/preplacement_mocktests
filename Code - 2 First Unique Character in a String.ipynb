{
 "cells": [
  {
   "cell_type": "markdown",
   "id": "7a7e4861-e93c-426d-9050-0d3aeaa1c3c5",
   "metadata": {},
   "source": [
    "# First Unique Character in a String\n",
    "\n",
    "## Given a string s, find the first non-repeating character in it and return its index. If it does not exist, return -1.\n",
    "\n",
    "## Example 1:\n",
    "### Input: s = \"leetcode\"\n",
    "### Output: 0\n",
    "\n",
    "## Example 2:\n",
    "### Input: s = \"loveleetcode\"\n",
    "### Output: 2\n",
    "\n",
    "## Example 3:\n",
    "### Input: s = \"aabb\"\n",
    "### Output: -1\n",
    "\n",
    "## Constraints:\n",
    "### a. 1 <= s.length <= 10^5\n",
    "### b. s consists of only lowercase English letters."
   ]
  },
  {
   "cell_type": "code",
   "execution_count": 3,
   "id": "608fd9c8-770a-44ea-aca7-dc27edefa12b",
   "metadata": {},
   "outputs": [
    {
     "name": "stdout",
     "output_type": "stream",
     "text": [
      "0\n",
      "2\n",
      "-1\n"
     ]
    }
   ],
   "source": [
    "def non_repeating_char(s):\n",
    "    a = {}\n",
    "    \n",
    "    # Count the occurance of each charcter\n",
    "    for i in range(len(s)):\n",
    "        a[s[i]] = s.count(s[i])\n",
    "        \n",
    "    # Find the index of the non-repeating char\n",
    "    for j in range(len(s)):\n",
    "        if a[s[j]] == 1:\n",
    "            return j\n",
    "            break\n",
    "            \n",
    "    return -1\n",
    "\n",
    "s1 = \"leetcode\"\n",
    "print(non_repeating_char(s1))\n",
    "\n",
    "s2 = \"loveleetcode\"\n",
    "print(non_repeating_char(s2))\n",
    "\n",
    "s3 = \"aabb\"\n",
    "print(non_repeating_char(s3))"
   ]
  }
 ],
 "metadata": {
  "kernelspec": {
   "display_name": "Python 3 (ipykernel)",
   "language": "python",
   "name": "python3"
  },
  "language_info": {
   "codemirror_mode": {
    "name": "ipython",
    "version": 3
   },
   "file_extension": ".py",
   "mimetype": "text/x-python",
   "name": "python",
   "nbconvert_exporter": "python",
   "pygments_lexer": "ipython3",
   "version": "3.10.8"
  }
 },
 "nbformat": 4,
 "nbformat_minor": 5
}
