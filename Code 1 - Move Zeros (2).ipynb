{
 "cells": [
  {
   "cell_type": "markdown",
   "id": "961f7127-9f72-4726-a7e3-51f29241791a",
   "metadata": {},
   "source": [
    "# Move Zeroes\n",
    "## Given an integer array nums, move all 0's to the end of it while maintaining the relative order of the non-zero elements.\n",
    "\n",
    "#### Note that you must do this in-place without making a copy of the array.\n",
    "\n",
    "## Example 1:\n",
    "### Input: nums = [0,1,0,3,12]\n",
    "### Output: [1,3,12,0,0]\n",
    "\n",
    "## Example 2:\n",
    "### Input: nums = [0]\n",
    "### Output: [0]\n",
    "\n",
    "## Constraints:\n",
    "### a. 1 <= nums.length <= 10^4\n",
    "### b. -2^31 <= nums[i] <= 2^31 - 1"
   ]
  },
  {
   "cell_type": "code",
   "execution_count": 2,
   "id": "fdb42af2-9c5e-4dbb-a31c-7ee17a730c00",
   "metadata": {},
   "outputs": [
    {
     "name": "stdout",
     "output_type": "stream",
     "text": [
      "[1, 3, 12, 0, 0]\n",
      "[0]\n"
     ]
    }
   ],
   "source": [
    "def move_zeros_to_end(nums):\n",
    "    if nums == 0:\n",
    "        return nums\n",
    "    \n",
    "    else:\n",
    "        # Move all 0's to the end\n",
    "        for i in range(len(nums)):\n",
    "            for j in range(len(nums)-i-1):\n",
    "                if nums[j] == 0:\n",
    "                    nums[j], nums[j+1] = nums[j+1], nums[j]\n",
    "                    \n",
    "    return nums\n",
    "\n",
    "nums1 = [0, 1, 0, 3, 12]\n",
    "print(move_zeros_to_end(nums1))\n",
    "\n",
    "nums2 = [0]\n",
    "print(move_zeros_to_end(nums2))"
   ]
  }
 ],
 "metadata": {
  "kernelspec": {
   "display_name": "Python 3 (ipykernel)",
   "language": "python",
   "name": "python3"
  },
  "language_info": {
   "codemirror_mode": {
    "name": "ipython",
    "version": 3
   },
   "file_extension": ".py",
   "mimetype": "text/x-python",
   "name": "python",
   "nbconvert_exporter": "python",
   "pygments_lexer": "ipython3",
   "version": "3.10.8"
  }
 },
 "nbformat": 4,
 "nbformat_minor": 5
}
