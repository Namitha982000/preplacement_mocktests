{
 "cells": [
  {
   "attachments": {},
   "cell_type": "markdown",
   "metadata": {},
   "source": [
    "#### Q. Given a non-negative integer x, return the square root of x rounded down to the nearest integer. The returned integer should be non-negative as well. You must not use any built-in exponent function or operator.\n",
    "\n",
    "Example 1:\n",
    "\n",
    "Input: x = 4\n",
    "\n",
    "Output: 2\n",
    "\n",
    "Explanation: \n",
    "\n",
    "The square root of 4 is 2, so we return 2.\n",
    "\n",
    "Example 2:\n",
    "\n",
    "Input: x = 8\n",
    "\n",
    "Output: 2\n",
    "\n",
    "Explanation: \n",
    "\n",
    "The square root of 8 is 2.82842..., and since we round it down to the nearest integer, 2 is returned.\n",
    "\n",
    "Constraints:\n",
    "\n",
    "0 <= x <= 2^31-1"
   ]
  },
  {
   "cell_type": "code",
   "execution_count": 1,
   "metadata": {},
   "outputs": [
    {
     "name": "stdout",
     "output_type": "stream",
     "text": [
      "2\n",
      "2\n"
     ]
    }
   ],
   "source": [
    "def Sqrt(x):\n",
    "    if x == 0 or x == 1:\n",
    "        return x\n",
    "    \n",
    "    l = 0\n",
    "    r = x\n",
    "    \n",
    "    while l <= r:\n",
    "        m = (l + r) // 2\n",
    "        \n",
    "        if m * m > x:\n",
    "            r = m - 1\n",
    "        else:\n",
    "            l = m + 1\n",
    "    \n",
    "    return r\n",
    "\n",
    "print(Sqrt(4)) \n",
    "print(Sqrt(8))\n",
    "\n"
   ]
  },
  {
   "cell_type": "code",
   "execution_count": null,
   "metadata": {},
   "outputs": [],
   "source": []
  }
 ],
 "metadata": {
  "kernelspec": {
   "display_name": "Python 3",
   "language": "python",
   "name": "python3"
  },
  "language_info": {
   "codemirror_mode": {
    "name": "ipython",
    "version": 3
   },
   "file_extension": ".py",
   "mimetype": "text/x-python",
   "name": "python",
   "nbconvert_exporter": "python",
   "pygments_lexer": "ipython3",
   "version": "3.7.0"
  },
  "orig_nbformat": 4
 },
 "nbformat": 4,
 "nbformat_minor": 2
}
