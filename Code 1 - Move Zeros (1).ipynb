{
 "cells": [
  {
   "cell_type": "markdown",
   "id": "961f7127-9f72-4726-a7e3-51f29241791a",
   "metadata": {},
   "source": [
    "# Move Zeroes\n",
    "## Given an integer array nums, move all 0's to the end of it while maintaining the relative order of the non-zero elements.\n",
    "\n",
    "#### Note that you must do this in-place without making a copy of the array.\n",
    "\n",
    "## Example 1:\n",
    "### Input: nums = [0,1,0,3,12]\n",
    "### Output: [1,3,12,0,0]\n",
    "\n",
    "## Example 2:\n",
    "### Input: nums = [0]\n",
    "### Output: [0]\n",
    "\n",
    "## Constraints:\n",
    "### a. 1 <= nums.length <= 10^4\n",
    "### b. -2^31 <= nums[i] <= 2^31 - 1"
   ]
  },
  {
   "cell_type": "code",
   "execution_count": 1,
   "id": "41054baa-57d9-4be8-a540-7af6db03b76d",
   "metadata": {},
   "outputs": [
    {
     "name": "stdout",
     "output_type": "stream",
     "text": [
      "[1, 3, 12, 0, 0]\n",
      "[0]\n"
     ]
    }
   ],
   "source": [
    "def move_zeroes(nums):\n",
    "    curr = 0\n",
    "    Non_Zero = 0\n",
    "\n",
    "    # Move non-zero elements to their correct positions\n",
    "    while curr < len(nums):\n",
    "        if nums[curr] != 0:\n",
    "            nums[curr], nums[Non_Zero] = nums[Non_Zero], nums[curr]\n",
    "            Non_Zero += 1\n",
    "        curr += 1\n",
    "\n",
    "    # Set the remaining elements to 0\n",
    "    while Non_Zero < len(nums):\n",
    "        nums[Non_Zero] = 0\n",
    "        Non_Zero += 1\n",
    "\n",
    "    return nums\n",
    "\n",
    "nums1 = [0, 1, 0, 3, 12]\n",
    "print(move_zeroes(nums1))\n",
    "\n",
    "nums2 = [0]\n",
    "print(move_zeroes(nums2))"
   ]
  }
 ],
 "metadata": {
  "kernelspec": {
   "display_name": "Python 3 (ipykernel)",
   "language": "python",
   "name": "python3"
  },
  "language_info": {
   "codemirror_mode": {
    "name": "ipython",
    "version": 3
   },
   "file_extension": ".py",
   "mimetype": "text/x-python",
   "name": "python",
   "nbconvert_exporter": "python",
   "pygments_lexer": "ipython3",
   "version": "3.10.8"
  }
 },
 "nbformat": 4,
 "nbformat_minor": 5
}
