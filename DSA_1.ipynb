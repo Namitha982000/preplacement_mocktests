{
 "cells": [
  {
   "cell_type": "markdown",
   "id": "ce14d982-0673-4bca-b1d6-4bf5df99b2b2",
   "metadata": {},
   "source": [
    "#### Question : Implement a stack using a list in Python. Include the necessary methods such as push, pop, and isEmpty"
   ]
  },
  {
   "cell_type": "code",
   "execution_count": 3,
   "id": "905e0960-204e-4e19-96a5-5a90690e4509",
   "metadata": {},
   "outputs": [],
   "source": [
    "class Stack:\n",
    "    def __init__(self):\n",
    "        self.items = []\n",
    "\n",
    "    def push(self, item):\n",
    "        self.items.append(item)\n",
    "\n",
    "    def pop(self):\n",
    "        if not self.is_empty():\n",
    "            return self.items.pop()\n",
    "        else:\n",
    "            print(\"Stack is empty.\")\n",
    "            return None\n",
    "\n",
    "    def is_empty(self):\n",
    "        return len(self.items) == 0\n"
   ]
  },
  {
   "cell_type": "code",
   "execution_count": 5,
   "id": "b4aed076-f3d4-4df4-b614-f33ba36db290",
   "metadata": {},
   "outputs": [
    {
     "name": "stdout",
     "output_type": "stream",
     "text": [
      "186\n",
      "99\n",
      "False\n",
      "23\n",
      "True\n"
     ]
    }
   ],
   "source": [
    "stack = Stack()\n",
    "stack.push(23)\n",
    "stack.push(99)\n",
    "stack.push(186)\n",
    "\n",
    "print(stack.pop())\n",
    "print(stack.pop())\n",
    "print(stack.is_empty())  \n",
    "print(stack.pop()) \n",
    "print(stack.is_empty()) \n"
   ]
  },
  {
   "cell_type": "code",
   "execution_count": null,
   "id": "86040008-2046-4f76-ac6f-9eb1247a1e9c",
   "metadata": {},
   "outputs": [],
   "source": []
  }
 ],
 "metadata": {
  "kernelspec": {
   "display_name": "Python 3 (ipykernel)",
   "language": "python",
   "name": "python3"
  },
  "language_info": {
   "codemirror_mode": {
    "name": "ipython",
    "version": 3
   },
   "file_extension": ".py",
   "mimetype": "text/x-python",
   "name": "python",
   "nbconvert_exporter": "python",
   "pygments_lexer": "ipython3",
   "version": "3.10.6"
  }
 },
 "nbformat": 4,
 "nbformat_minor": 5
}
