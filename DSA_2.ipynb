{
 "cells": [
  {
   "cell_type": "markdown",
   "id": "866e5545-15bf-4efc-b7b6-d3baa3eb2682",
   "metadata": {},
   "source": [
    "#### Question: Implement a queue using a list in Python. Include the necessary methods such as enqueue, dequeue, and isEmpty"
   ]
  },
  {
   "cell_type": "code",
   "execution_count": 1,
   "id": "0e906ce7-e7f8-473d-9d7f-5c330ec1909d",
   "metadata": {},
   "outputs": [],
   "source": [
    "class Queue:\n",
    "    def __init__(self):\n",
    "        self.items = []\n",
    "\n",
    "    def enqueue(self, item):\n",
    "        self.items.append(item)\n",
    "\n",
    "    def dequeue(self):\n",
    "        if not self.is_empty():\n",
    "            return self.items.pop(0)\n",
    "        else:\n",
    "            print(\"Queue is empty.\")\n",
    "            return None\n",
    "\n",
    "    def is_empty(self):\n",
    "        return len(self.items) == 0\n"
   ]
  },
  {
   "cell_type": "code",
   "execution_count": 3,
   "id": "de7805e2-df47-4cdd-aaaa-340153735a70",
   "metadata": {},
   "outputs": [
    {
     "name": "stdout",
     "output_type": "stream",
     "text": [
      "89\n",
      "30\n",
      "False\n",
      "456\n",
      "True\n"
     ]
    }
   ],
   "source": [
    "queue = Queue()\n",
    "queue.enqueue(89)\n",
    "queue.enqueue(30)\n",
    "queue.enqueue(456)\n",
    "\n",
    "print(queue.dequeue()) \n",
    "print(queue.dequeue()) \n",
    "print(queue.is_empty())\n",
    "print(queue.dequeue())\n",
    "print(queue.is_empty())\n"
   ]
  },
  {
   "cell_type": "code",
   "execution_count": null,
   "id": "e8efdbfc-88a6-4cee-8ea9-cfe99229b8a2",
   "metadata": {},
   "outputs": [],
   "source": []
  }
 ],
 "metadata": {
  "kernelspec": {
   "display_name": "Python 3 (ipykernel)",
   "language": "python",
   "name": "python3"
  },
  "language_info": {
   "codemirror_mode": {
    "name": "ipython",
    "version": 3
   },
   "file_extension": ".py",
   "mimetype": "text/x-python",
   "name": "python",
   "nbconvert_exporter": "python",
   "pygments_lexer": "ipython3",
   "version": "3.10.6"
  }
 },
 "nbformat": 4,
 "nbformat_minor": 5
}
