{
 "cells": [
  {
   "cell_type": "markdown",
   "id": "961f7127-9f72-4726-a7e3-51f29241791a",
   "metadata": {},
   "source": [
    "# Move Zeroes\n",
    "## Given an integer array nums, move all 0's to the end of it while maintaining the relative order of the non-zero elements.\n",
    "\n",
    "#### Note that you must do this in-place without making a copy of the array.\n",
    "\n",
    "## Example 1:\n",
    "### Input: nums = [0,1,0,3,12]\n",
    "### Output: [1,3,12,0,0]\n",
    "\n",
    "## Example 2:\n",
    "### Input: nums = [0]\n",
    "### Output: [0]\n",
    "\n",
    "## Constraints:\n",
    "### a. 1 <= nums.length <= 10^4\n",
    "### b. -2^31 <= nums[i] <= 2^31 - 1"
   ]
  },
  {
   "cell_type": "code",
   "execution_count": null,
   "id": "41054baa-57d9-4be8-a540-7af6db03b76d",
   "metadata": {},
   "outputs": [],
   "source": []
  }
 ],
 "metadata": {
  "kernelspec": {
   "display_name": "Python 3 (ipykernel)",
   "language": "python",
   "name": "python3"
  },
  "language_info": {
   "codemirror_mode": {
    "name": "ipython",
    "version": 3
   },
   "file_extension": ".py",
   "mimetype": "text/x-python",
   "name": "python",
   "nbconvert_exporter": "python",
   "pygments_lexer": "ipython3",
   "version": "3.10.8"
  }
 },
 "nbformat": 4,
 "nbformat_minor": 5
}
